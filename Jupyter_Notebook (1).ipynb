{
 "cells": [
  {
   "cell_type": "markdown",
   "metadata": {},
   "source": [
    "<center>\n",
    "    <img src=\"https://cf-courses-data.s3.us.cloud-object-storage.appdomain.cloud/IBMDeveloperSkillsNetwork-DS0105EN-SkillsNetwork/labs/Module2/images/SN_web_lightmode.png\" width=\"300\" alt=\"cognitiveclass.ai logo\">\n",
    "</center>\n"
   ]
  },
  {
   "cell_type": "markdown",
   "metadata": {},
   "source": [
    "#### Add your code below following the instructions given in the course\n"
   ]
  },
  {
   "cell_type": "markdown",
   "metadata": {},
   "source": [
    "Final Assignment for Tools for Data Science"
   ]
  },
  {
   "cell_type": "markdown",
   "metadata": {},
   "source": [
    "This is markdown for a brief Introduction"
   ]
  },
  {
   "cell_type": "markdown",
   "metadata": {},
   "source": [
    "List data science languages are:\n",
    "<br>\n",
    "Python\n",
    "<br>\n",
    "R\n",
    "<br>\n",
    "SQL\n",
    "<br>\n",
    "Java\n",
    "<br>\n",
    "Julia\n",
    "<br>\n",
    "Scala\n",
    "<br> etc"
   ]
  },
  {
   "cell_type": "markdown",
   "metadata": {},
   "source": [
    "List data science libraries are:\n",
    "TensorFlow <br>\n",
    "NumPy <br>\n",
    "SciPy <br>\n",
    "Pandas<br>\n",
    "Matplotlib <br>\n",
    "Keras<br>\n",
    "SciKit-Learn<br>\n",
    "PyTorch<br>\n",
    "Scrapy<br>\n"
   ]
  },
  {
   "cell_type": "markdown",
   "metadata": {},
   "source": []
  },
  {
   "cell_type": "code",
   "execution_count": 1,
   "metadata": {},
   "outputs": [
    {
     "name": "stdout",
     "output_type": "stream",
     "text": [
      "5\n"
     ]
    }
   ],
   "source": [
    "## Arithmatic Expression Example\n",
    "a = 2\n",
    "b = 3\n",
    "c = a + b\n",
    "print(c)"
   ]
  },
  {
   "cell_type": "code",
   "execution_count": 5,
   "metadata": {},
   "outputs": [
    {
     "name": "stdout",
     "output_type": "stream",
     "text": [
      "9\n"
     ]
    }
   ],
   "source": [
    "## Multiply and add number example\n",
    "a = 2\n",
    "b = 3\n",
    "c = a*3 + b\n",
    "print(c)"
   ]
  },
  {
   "cell_type": "code",
   "execution_count": 6,
   "metadata": {},
   "outputs": [
    {
     "name": "stdout",
     "output_type": "stream",
     "text": [
      "seconds value in hours: 2\n",
      "seconds value in minutes: 46\n",
      "Time in preferred format :- 02:46:40\n"
     ]
    }
   ],
   "source": [
    "## Convert minute to hours\n",
    "\n",
    "def convert_to_preferred_format(sec):\n",
    "   sec = sec % (24 * 3600)\n",
    "   hour = sec // 3600\n",
    "   sec %= 3600\n",
    "   min = sec // 60\n",
    "   sec %= 60\n",
    "   print(\"seconds value in hours:\",hour)\n",
    "   print(\"seconds value in minutes:\",min)\n",
    "   return \"%02d:%02d:%02d\" % (hour, min, sec) \n",
    "\n",
    "n = 10000\n",
    "print(\"Time in preferred format :-\", convert_to_preferred_format(n))"
   ]
  },
  {
   "cell_type": "markdown",
   "metadata": {},
   "source": [
    "Author name: Sungmin Jang"
   ]
  },
  {
   "cell_type": "code",
   "execution_count": null,
   "metadata": {},
   "outputs": [],
   "source": []
  },
  {
   "cell_type": "code",
   "execution_count": null,
   "metadata": {},
   "outputs": [],
   "source": []
  }
 ],
 "metadata": {
  "kernelspec": {
   "display_name": "Python",
   "language": "python",
   "name": "conda-env-python-py"
  },
  "language_info": {
   "codemirror_mode": {
    "name": "ipython",
    "version": 3
   },
   "file_extension": ".py",
   "mimetype": "text/x-python",
   "name": "python",
   "nbconvert_exporter": "python",
   "pygments_lexer": "ipython3",
   "version": "3.7.12"
  }
 },
 "nbformat": 4,
 "nbformat_minor": 4
}
